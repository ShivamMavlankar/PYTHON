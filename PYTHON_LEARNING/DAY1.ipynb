{
 "cells": [
  {
   "cell_type": "markdown",
   "id": "b808b345-d90c-40b8-8b77-5c60937a8c3b",
   "metadata": {},
   "source": [
    "DAY1 -class1 : Introducton To Jupyter"
   ]
  },
  {
   "cell_type": "markdown",
   "id": "bfbb2e5d-e88f-4bbd-94c6-474ce16b1579",
   "metadata": {},
   "source": [
    "first code"
   ]
  },
  {
   "cell_type": "code",
   "execution_count": 3,
   "id": "e5b86339-eb8b-4a21-9db1-b2815b81ee20",
   "metadata": {
    "scrolled": true
   },
   "outputs": [
    {
     "name": "stdout",
     "output_type": "stream",
     "text": [
      "hello Jupyter\n"
     ]
    }
   ],
   "source": [
    "print(\"hello Jupyter\")"
   ]
  },
  {
   "cell_type": "code",
   "execution_count": 1,
   "id": "215ec01e-554f-4d7f-960e-e1341ad0a172",
   "metadata": {
    "scrolled": true
   },
   "outputs": [
    {
     "name": "stdout",
     "output_type": "stream",
     "text": [
      "53\n"
     ]
    }
   ],
   "source": [
    "print (21+12+20)"
   ]
  },
  {
   "cell_type": "markdown",
   "id": "c5a35d70-cd99-43f9-b94a-d6a9650053b6",
   "metadata": {},
   "source": [
    "Python Comments"
   ]
  },
  {
   "cell_type": "code",
   "execution_count": 16,
   "id": "83692afd-63c9-4716-92be-abe4c29459a3",
   "metadata": {},
   "outputs": [
    {
     "name": "stdout",
     "output_type": "stream",
     "text": [
      "sum of two number is: just testing #comment part\n"
     ]
    }
   ],
   "source": [
    "#commment test\n",
    "print (\"sum of two number is: just testing #comment part\") "
   ]
  },
  {
   "cell_type": "code",
   "execution_count": null,
   "id": "2f2dd652-0f0c-4c2c-a426-fa1f08372ceb",
   "metadata": {},
   "outputs": [],
   "source": []
  }
 ],
 "metadata": {
  "kernelspec": {
   "display_name": "Python 3 (ipykernel)",
   "language": "python",
   "name": "python3"
  },
  "language_info": {
   "codemirror_mode": {
    "name": "ipython",
    "version": 3
   },
   "file_extension": ".py",
   "mimetype": "text/x-python",
   "name": "python",
   "nbconvert_exporter": "python",
   "pygments_lexer": "ipython3",
   "version": "3.11.7"
  }
 },
 "nbformat": 4,
 "nbformat_minor": 5
}
