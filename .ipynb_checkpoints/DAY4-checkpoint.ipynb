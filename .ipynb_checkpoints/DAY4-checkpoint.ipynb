{
 "cells": [
  {
   "cell_type": "markdown",
   "id": "728ea21c-2d15-4b6f-960f-0781b1cd3eb6",
   "metadata": {},
   "source": [
    "DAY 4 :CONTROL FLOW "
   ]
  },
  {
   "cell_type": "markdown",
   "id": "7ea73012-8bc9-4efd-a651-5f25004393b6",
   "metadata": {},
   "source": [
    "CONDITIONAL SYNTAX:"
   ]
  },
  {
   "cell_type": "markdown",
   "id": "12f9aa59-6fe7-4614-b8d6-d325f80fa461",
   "metadata": {},
   "source": [
    "IF"
   ]
  },
  {
   "cell_type": "markdown",
   "id": "5a67593b-3618-48fe-a345-a4769d9108fc",
   "metadata": {},
   "source": [
    "Programe to calculate percentage"
   ]
  },
  {
   "cell_type": "code",
   "execution_count": 4,
   "id": "fd11ff5a-c1e6-4d2a-8653-dd6d606d39f1",
   "metadata": {},
   "outputs": [
    {
     "name": "stdin",
     "output_type": "stream",
     "text": [
      "enter the name of student shivam\n",
      "enter the marks scpred in ENGLISH 80\n",
      "enter the marks scpred in MATHS 80\n",
      "enter the marks scpred in SCIENCE 90\n",
      "enter the marks scpred in COMPUTER SCIENCE 85\n",
      "enter the marks scpred in HINDI 90\n"
     ]
    },
    {
     "name": "stdout",
     "output_type": "stream",
     "text": [
      "Percentage scored by  shivam is  85\n"
     ]
    }
   ],
   "source": [
    "name=input(\"enter the name of student\")\n",
    "\n",
    "ENG=int(input(\"enter the marks scored in ENGLISH  =\"))\n",
    "MAT=int(input(\"enter the marks scored in MATHS  =\"))\n",
    "SCI=int(input(\"enter the marks scored in SCIENCE  =\"))\n",
    "COMP=int(input(\"enter the marks scored in COMPUTER SCIENCE  =\"))\n",
    "HIN=int(input(\"enter the marks scored in HINDI  =\"))\n",
    "\n",
    "SCORED_MARKS=(ENG+MAT+SCI+COMP+HIN)\n",
    "TOTAL_MARKS=500             \n",
    "PER=int((SCORED_MARKS/TOTAL_MARKS)*100)\n",
    "\n",
    "print(\"Percentage scored by \", name ,\"is \" ,PER )\n",
    "\n",
    "if PER IS above 90 = A grade\n",
    "if PER IS above 75 = B grade\n",
    "if PER IS above 50 = C grade\n",
    "if PER IS above 33 = PASS grade\n"
   ]
  },
  {
   "cell_type": "code",
   "execution_count": 8,
   "id": "d8012032-59fd-4c85-b853-46302ff7887c",
   "metadata": {},
   "outputs": [
    {
     "name": "stdin",
     "output_type": "stream",
     "text": [
      "Enter the percentage scored by Student 50\n"
     ]
    },
    {
     "name": "stdout",
     "output_type": "stream",
     "text": [
      "Student falls in C grade\n"
     ]
    }
   ],
   "source": [
    "per = int(input(\"Enter the percentage scored by Student\"))\n",
    "\n",
    "if per>=90:\n",
    "    print(\"Student Scored in A grade\")\n",
    "if per>=75 and per<90:\n",
    "    print(\"Student Scored in B grade\")\n",
    "if per>=50 and per<70:\n",
    "    print(\"Student Scored in C grade\")\n",
    "if per>=33 and per<50:\n",
    "    print(\"Student Scored in D grade\")\n",
    "    \n"
   ]
  },
  {
   "cell_type": "markdown",
   "id": "469121f0-d854-45d0-ad19-77ea1b967a64",
   "metadata": {},
   "source": [
    "IF-ELSE"
   ]
  },
  {
   "cell_type": "code",
   "execution_count": null,
   "id": "080d6272-7e52-4620-8584-69f3ba8c5df9",
   "metadata": {},
   "outputs": [],
   "source": []
  },
  {
   "cell_type": "code",
   "execution_count": null,
   "id": "b0111307-25ca-4148-8c18-f71598220742",
   "metadata": {},
   "outputs": [],
   "source": []
  },
  {
   "cell_type": "markdown",
   "id": "31ad348d-8acb-4f4c-9df6-8ed85617fc48",
   "metadata": {},
   "source": [
    "IF-ELIF-ELSE"
   ]
  },
  {
   "cell_type": "code",
   "execution_count": null,
   "id": "d1a6434e-b43a-4acb-9aad-9e84a53a96e3",
   "metadata": {},
   "outputs": [],
   "source": []
  },
  {
   "cell_type": "code",
   "execution_count": null,
   "id": "90ba970b-e2fb-4041-9987-974e0a706fac",
   "metadata": {},
   "outputs": [],
   "source": []
  },
  {
   "cell_type": "markdown",
   "id": "1b2a9a75-bd99-4aab-befe-12a547d76b0f",
   "metadata": {},
   "source": [
    "NESTED IF ELSE"
   ]
  },
  {
   "cell_type": "code",
   "execution_count": null,
   "id": "de02019b-7cd2-4091-9e7a-2ae3061de2a0",
   "metadata": {},
   "outputs": [],
   "source": []
  },
  {
   "cell_type": "code",
   "execution_count": null,
   "id": "e2839ad7-b32b-4195-bf3e-e013b5035884",
   "metadata": {},
   "outputs": [],
   "source": []
  }
 ],
 "metadata": {
  "kernelspec": {
   "display_name": "Python 3 (ipykernel)",
   "language": "python",
   "name": "python3"
  },
  "language_info": {
   "codemirror_mode": {
    "name": "ipython",
    "version": 3
   },
   "file_extension": ".py",
   "mimetype": "text/x-python",
   "name": "python",
   "nbconvert_exporter": "python",
   "pygments_lexer": "ipython3",
   "version": "3.11.7"
  }
 },
 "nbformat": 4,
 "nbformat_minor": 5
}
