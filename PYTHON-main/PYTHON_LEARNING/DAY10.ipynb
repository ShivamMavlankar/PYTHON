{
 "cells": [
  {
   "cell_type": "markdown",
   "metadata": {},
   "source": [
    "DAY 10:DICTONARY"
   ]
  },
  {
   "cell_type": "code",
   "execution_count": 13,
   "metadata": {},
   "outputs": [
    {
     "name": "stdout",
     "output_type": "stream",
     "text": [
      "4\n",
      "moira - Goa\n"
     ]
    }
   ],
   "source": [
    "A={ \n",
    "\"id\":\"001\",\n",
    "\"name\" : \"shivam\",\n",
    "\"place\":\"moira\",\n",
    "\"state\":\"Goa\"\n",
    "\n",
    "}\n",
    "\n",
    "print(len(A))\n",
    "print(A[\"place\"],\"-\",A[\"state\"])"
   ]
  },
  {
   "cell_type": "code",
   "execution_count": 18,
   "metadata": {},
   "outputs": [
    {
     "name": "stdout",
     "output_type": "stream",
     "text": [
      "{'id': '001', 'name': 'shivam', 'place': 'moira', 'state': 'Goa', 'A': [1, 1, 1, 1, 1, 1, 1], 'AA': (1, 12, 13, 14, 15, 16, 17)}\n",
      "(1, 12, 13, 14, 15, 16, 17)\n"
     ]
    }
   ],
   "source": [
    "B={ \n",
    "\"id\":\"001\",\n",
    "\"name\" : \"shivam\",\n",
    "\"place\":\"moira\",\n",
    "\"state\":\"Goa\",\n",
    "\"A\" :[1,1,1,1,1,1,1],\n",
    "\"AA\" :(1,12,13,14,15,16,17)\n",
    "}\n",
    "print(B)\n",
    "print(B[\"AA\"])"
   ]
  },
  {
   "cell_type": "code",
   "execution_count": 1,
   "metadata": {},
   "outputs": [
    {
     "name": "stdout",
     "output_type": "stream",
     "text": [
      "{'id': '001', 'name': 'shivam', 'place': 'moira', 'state': 'Goa', 'A': [1, 1, 1, 1, 1, 1, 1], 'AA': (1, 12, 13, 14, 15, 16, 17)}\n",
      "(1, 12, 13, 14, 15, 16, 17)\n"
     ]
    }
   ],
   "source": [
    "B={ \n",
    "\"id\":\"001\",\n",
    "\"name\" : \"shivam\",\n",
    "\"place\":\"moira\",\n",
    "\"state\":\"Goa\",\n",
    "\"A\" :[1,1,1,1,1,1,1],\n",
    "\"AA\" :(1,12,13,14,15,16,17)\n",
    "}\n",
    "print(B)\n",
    "print(B[\"AA\"])"
   ]
  }
 ],
 "metadata": {
  "kernelspec": {
   "display_name": "base",
   "language": "python",
   "name": "python3"
  },
  "language_info": {
   "codemirror_mode": {
    "name": "ipython",
    "version": 3
   },
   "file_extension": ".py",
   "mimetype": "text/x-python",
   "name": "python",
   "nbconvert_exporter": "python",
   "pygments_lexer": "ipython3",
   "version": "3.11.7"
  }
 },
 "nbformat": 4,
 "nbformat_minor": 2
}
