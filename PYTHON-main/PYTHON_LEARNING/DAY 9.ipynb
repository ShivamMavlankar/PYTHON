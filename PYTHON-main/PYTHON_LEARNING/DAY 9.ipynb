{
 "cells": [
  {
   "cell_type": "markdown",
   "id": "5a107a51-6bf0-43b0-8da7-e226804d1d9a",
   "metadata": {},
   "source": [
    "TUPLES"
   ]
  },
  {
   "cell_type": "markdown",
   "id": "ec5b44af-7b28-4479-b7d7-70153c6f1762",
   "metadata": {},
   "source": [
    "Creation of TUPLES"
   ]
  },
  {
   "cell_type": "code",
   "execution_count": null,
   "id": "0f38a6d8-3911-454d-acb2-e68663ed3b7a",
   "metadata": {},
   "outputs": [],
   "source": [
    "TUPLE=(1,2,3)\n",
    "print(TUPLE)\n",
    "print(type(TUPLE))"
   ]
  },
  {
   "cell_type": "code",
   "execution_count": 2,
   "id": "e2d0801b-66c0-4d30-a40b-00b142e0776c",
   "metadata": {},
   "outputs": [
    {
     "name": "stdout",
     "output_type": "stream",
     "text": [
      "<class 'list'>\n",
      "[1, 2, 3, 22.22, 'shivam']\n",
      "(1, 'hello', 22.23, 'shivam')\n",
      "<class 'tuple'>\n"
     ]
    }
   ],
   "source": [
    "my_tuple=(1,\"hello\",22.23,\"shivam\")\n",
    "my_list =[1,2,3,22.22,\"shivam\"]\n",
    "print(type(my_list))\n",
    "print(my_list)\n",
    "print(my_tuple)\n",
    "print(type(my_tuple))\n"
   ]
  },
  {
   "cell_type": "markdown",
   "id": "be7edac6",
   "metadata": {},
   "source": [
    "NESTED TUPLE"
   ]
  },
  {
   "cell_type": "code",
   "execution_count": null,
   "id": "c7e00497",
   "metadata": {},
   "outputs": [],
   "source": [
    "A=('DATA',\"DATA1\",[1,2,3,4],(1,2,3,4))\n",
    "print(A)"
   ]
  },
  {
   "cell_type": "markdown",
   "id": "71593761",
   "metadata": {},
   "source": [
    "INDEXING IN TUPLE"
   ]
  },
  {
   "cell_type": "code",
   "execution_count": null,
   "id": "0fe1c862",
   "metadata": {},
   "outputs": [],
   "source": [
    "A=(111,112,113,114,115,116)\n",
    "print(A[0])\n",
    "print(A[-2])"
   ]
  },
  {
   "cell_type": "code",
   "execution_count": null,
   "id": "f7bdf71c",
   "metadata": {},
   "outputs": [],
   "source": [
    "A=(111,112,\"data\",\"Shivam\",114,115,116)\n",
    "print(A[3])\n",
    "print(A[-2])"
   ]
  },
  {
   "cell_type": "code",
   "execution_count": null,
   "id": "e4161a5f",
   "metadata": {},
   "outputs": [],
   "source": [
    "b=(1,2,3,4,4,5,5,6,67,7,8,99,8,7,6,54,4,4,4,5,5,6,7,7,5)\n",
    "print(b[8:14])\n",
    "print(b[:]) # print all tuple list "
   ]
  },
  {
   "cell_type": "markdown",
   "id": "e7b0aa75",
   "metadata": {},
   "source": [
    "REVERSE TUPLE"
   ]
  },
  {
   "cell_type": "code",
   "execution_count": null,
   "id": "4c479db2",
   "metadata": {},
   "outputs": [],
   "source": [
    "print(b[::-1])\n",
    "print(b[3:])\n",
    "print(b[:3])"
   ]
  },
  {
   "cell_type": "markdown",
   "id": "1166bdd1",
   "metadata": {},
   "source": [
    "TAKE 5 VALUES AS INPUT IN TUPLE"
   ]
  },
  {
   "cell_type": "code",
   "execution_count": 3,
   "id": "cf549ae4",
   "metadata": {},
   "outputs": [
    {
     "name": "stdout",
     "output_type": "stream",
     "text": [
      "(34,)\n",
      "(34, 34)\n",
      "(34, 34, 33)\n",
      "(34, 34, 33, 22)\n",
      "(34, 34, 33, 22, 33)\n",
      "(34, 34, 33, 22, 33, 22)\n"
     ]
    }
   ],
   "source": [
    "T = ()\n",
    "i = 0\n",
    "while i<=5:\n",
    "    num = int(input(\"enter the tuple input\"))\n",
    "    T = T + (num,)\n",
    "    i=i+1\n",
    "    print(T)\n",
    "\n",
    "    "
   ]
  },
  {
   "cell_type": "code",
   "execution_count": null,
   "id": "476c479f",
   "metadata": {},
   "outputs": [],
   "source": []
  }
 ],
 "metadata": {
  "kernelspec": {
   "display_name": "Python 3 (ipykernel)",
   "language": "python",
   "name": "python3"
  },
  "language_info": {
   "codemirror_mode": {
    "name": "ipython",
    "version": 3
   },
   "file_extension": ".py",
   "mimetype": "text/x-python",
   "name": "python",
   "nbconvert_exporter": "python",
   "pygments_lexer": "ipython3",
   "version": "3.11.7"
  }
 },
 "nbformat": 4,
 "nbformat_minor": 5
}
