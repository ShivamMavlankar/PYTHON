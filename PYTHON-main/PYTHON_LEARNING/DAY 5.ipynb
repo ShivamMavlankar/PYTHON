{
 "cells": [
  {
   "cell_type": "markdown",
   "id": "ca64808c-8bbe-46b1-aa13-1fc2c1673bf0",
   "metadata": {},
   "source": [
    "LOOPS IN PYTHON"
   ]
  },
  {
   "cell_type": "markdown",
   "id": "c5f6edd9-5e60-47a7-b8a8-318cf353a2c5",
   "metadata": {},
   "source": [
    "NUMBERS TO DISPLAY NUMBER FROM 1-50"
   ]
  },
  {
   "cell_type": "code",
   "execution_count": 1,
   "id": "d179048b-8161-45e8-bf03-40888eb2d494",
   "metadata": {},
   "outputs": [
    {
     "name": "stdout",
     "output_type": "stream",
     "text": [
      "1\n",
      "2\n",
      "3\n",
      "4\n",
      "5\n"
     ]
    }
   ],
   "source": [
    "i=1\n",
    "n=5\n",
    "\n",
    "while i<=n:\n",
    " print(i)\n",
    " i=i+1\n",
    " "
   ]
  },
  {
   "cell_type": "markdown",
   "id": "4eb6f53a-9a58-4e61-a257-1b3518332650",
   "metadata": {},
   "source": [
    "multipule of 5 table"
   ]
  },
  {
   "cell_type": "code",
   "execution_count": 5,
   "id": "a33bfabd-188d-4eab-8c54-bf3690ec1354",
   "metadata": {},
   "outputs": [
    {
     "name": "stdin",
     "output_type": "stream",
     "text": [
      "enter the number 6\n"
     ]
    },
    {
     "name": "stdout",
     "output_type": "stream",
     "text": [
      "6\n",
      "12\n",
      "18\n",
      "24\n",
      "30\n",
      "36\n",
      "42\n",
      "48\n",
      "54\n",
      "60\n"
     ]
    }
   ],
   "source": [
    "i=1\n",
    "n= int(input(\"enter the number\" ))\n",
    "while i<=10:\n",
    " print(i*n)\n",
    " i=i+1"
   ]
  },
  {
   "cell_type": "code",
   "execution_count": null,
   "id": "65f679fd-b130-4f55-bd3d-0b664397df3d",
   "metadata": {},
   "outputs": [],
   "source": []
  }
 ],
 "metadata": {
  "kernelspec": {
   "display_name": "Python 3 (ipykernel)",
   "language": "python",
   "name": "python3"
  },
  "language_info": {
   "codemirror_mode": {
    "name": "ipython",
    "version": 3
   },
   "file_extension": ".py",
   "mimetype": "text/x-python",
   "name": "python",
   "nbconvert_exporter": "python",
   "pygments_lexer": "ipython3",
   "version": "3.11.7"
  }
 },
 "nbformat": 4,
 "nbformat_minor": 5
}
