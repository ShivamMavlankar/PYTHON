{
 "cells": [
  {
   "cell_type": "markdown",
   "id": "56c2f13c-fa94-4cee-b302-7c92064897d3",
   "metadata": {},
   "source": [
    "USER DEFINE FUNCTION"
   ]
  },
  {
   "cell_type": "code",
   "execution_count": 1,
   "id": "d5fc18ce-fea2-4687-8c92-47046c641b6c",
   "metadata": {},
   "outputs": [],
   "source": [
    "def my_function():\n",
    "    print(\"hello user\")"
   ]
  },
  {
   "cell_type": "code",
   "execution_count": 2,
   "id": "01247c4b-6da6-4a79-ae41-bef50b580627",
   "metadata": {},
   "outputs": [
    {
     "name": "stdout",
     "output_type": "stream",
     "text": [
      "hello user\n"
     ]
    }
   ],
   "source": [
    "my_function()"
   ]
  },
  {
   "cell_type": "markdown",
   "id": "223985e5-9c55-4e39-88bb-b4e41226a189",
   "metadata": {},
   "source": [
    "MAKING STUDENT RESULT\n",
    "\n",
    "\n"
   ]
  },
  {
   "cell_type": "code",
   "execution_count": 23,
   "id": "50ea3473-9d6d-409e-aacb-c0084028a1e0",
   "metadata": {},
   "outputs": [],
   "source": [
    "def contact():\n",
    " print(\"Contact details of school\")\n",
    " print(\"St xavier's High School\")\n",
    " print(\"Moira-Goa\")\n",
    " print(\"0832-22033322\")\n"
   ]
  },
  {
   "cell_type": "code",
   "execution_count": 29,
   "id": "51976c9a-5af4-4b0e-88f4-415673c18127",
   "metadata": {},
   "outputs": [
    {
     "name": "stdin",
     "output_type": "stream",
     "text": [
      "enter the name of student a\n",
      "enter the marks in English 45\n",
      "enter the marks in Maths 45\n",
      "enter the marks in Science 45\n",
      "enter the marks in History 45\n",
      "enter the name of student b\n",
      "enter the marks in English 45\n",
      "enter the marks in Maths 65\n",
      "enter the marks in Science 54\n",
      "enter the marks in History 56\n"
     ]
    }
   ],
   "source": [
    " for i in range(2):\n",
    "     a=input(\"enter the name of student\")\n",
    "     eng=int(input(\"enter the marks in English\"))\n",
    "     math=int(input(\"enter the marks in Maths\"))\n",
    "     sci=int(input(\"enter the marks in Science\"))\n",
    "     his=int(input(\"enter the marks in History\"))\n",
    "\n",
    "\n",
    "\n",
    "     "
   ]
  },
  {
   "cell_type": "code",
   "execution_count": 30,
   "id": "fbdd7914-8e1f-4157-a55a-56ba97224183",
   "metadata": {},
   "outputs": [
    {
     "ename": "IndentationError",
     "evalue": "expected an indented block after 'for' statement on line 1 (2338537737.py, line 2)",
     "output_type": "error",
     "traceback": [
      "\u001b[1;36m  Cell \u001b[1;32mIn[30], line 2\u001b[1;36m\u001b[0m\n\u001b[1;33m    contact()\u001b[0m\n\u001b[1;37m    ^\u001b[0m\n\u001b[1;31mIndentationError\u001b[0m\u001b[1;31m:\u001b[0m expected an indented block after 'for' statement on line 1\n"
     ]
    }
   ],
   "source": [
    "for i in range(2):\n",
    "contact()\n",
    "per()"
   ]
  },
  {
   "cell_type": "code",
   "execution_count": null,
   "id": "4d28d6b9-4baa-4326-bc4d-47b41895c01d",
   "metadata": {},
   "outputs": [],
   "source": []
  },
  {
   "cell_type": "code",
   "execution_count": null,
   "id": "0982b2f9-acf8-479c-9e73-db90cc0debe8",
   "metadata": {},
   "outputs": [],
   "source": []
  }
 ],
 "metadata": {
  "kernelspec": {
   "display_name": "Python 3 (ipykernel)",
   "language": "python",
   "name": "python3"
  },
  "language_info": {
   "codemirror_mode": {
    "name": "ipython",
    "version": 3
   },
   "file_extension": ".py",
   "mimetype": "text/x-python",
   "name": "python",
   "nbconvert_exporter": "python",
   "pygments_lexer": "ipython3",
   "version": "3.11.7"
  }
 },
 "nbformat": 4,
 "nbformat_minor": 5
}
