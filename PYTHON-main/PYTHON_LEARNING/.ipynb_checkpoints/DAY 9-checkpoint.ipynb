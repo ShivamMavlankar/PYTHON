{
 "cells": [
  {
   "cell_type": "markdown",
   "id": "5a107a51-6bf0-43b0-8da7-e226804d1d9a",
   "metadata": {},
   "source": [
    "TUPLES"
   ]
  },
  {
   "cell_type": "markdown",
   "id": "ec5b44af-7b28-4479-b7d7-70153c6f1762",
   "metadata": {},
   "source": [
    "Creation of TUPLES"
   ]
  },
  {
   "cell_type": "code",
   "execution_count": 7,
   "id": "0f38a6d8-3911-454d-acb2-e68663ed3b7a",
   "metadata": {},
   "outputs": [
    {
     "name": "stdout",
     "output_type": "stream",
     "text": [
      "(1, 2, 3)\n",
      "<class 'tuple'>\n"
     ]
    }
   ],
   "source": [
    "TUPLE=(1,2,3)\n",
    "print(TUPLE)\n",
    "print(type(TUPLE))"
   ]
  },
  {
   "cell_type": "code",
   "execution_count": 8,
   "id": "e2d0801b-66c0-4d30-a40b-00b142e0776c",
   "metadata": {},
   "outputs": [
    {
     "name": "stdin",
     "output_type": "stream",
     "text": [
      "enter the tuple input 2\n"
     ]
    },
    {
     "name": "stdout",
     "output_type": "stream",
     "text": [
      "(2,)\n"
     ]
    },
    {
     "name": "stdin",
     "output_type": "stream",
     "text": [
      "enter the tuple input 22\n"
     ]
    },
    {
     "name": "stdout",
     "output_type": "stream",
     "text": [
      "(2, 22)\n"
     ]
    },
    {
     "name": "stdin",
     "output_type": "stream",
     "text": [
      "enter the tuple input 222\n"
     ]
    },
    {
     "name": "stdout",
     "output_type": "stream",
     "text": [
      "(2, 22, 222)\n"
     ]
    },
    {
     "name": "stdin",
     "output_type": "stream",
     "text": [
      "enter the tuple input 2222\n"
     ]
    },
    {
     "name": "stdout",
     "output_type": "stream",
     "text": [
      "(2, 22, 222, 2222)\n"
     ]
    },
    {
     "name": "stdin",
     "output_type": "stream",
     "text": [
      "enter the tuple input 22222\n"
     ]
    },
    {
     "name": "stdout",
     "output_type": "stream",
     "text": [
      "(2, 22, 222, 2222, 22222)\n"
     ]
    },
    {
     "name": "stdin",
     "output_type": "stream",
     "text": [
      "enter the tuple input 22\n"
     ]
    },
    {
     "name": "stdout",
     "output_type": "stream",
     "text": [
      "(2, 22, 222, 2222, 22222, 22)\n"
     ]
    }
   ],
   "source": [
    "T = ()\n",
    "i = 0\n",
    "while i<=4:\n",
    "    num = int(input(\"enter the tuple input\"))\n",
    "    T = T + (num,)\n",
    "    i=i+1\n",
    "    print(T)"
   ]
  },
  {
   "cell_type": "code",
   "execution_count": null,
   "id": "4d2640d6-a060-4512-a62a-557f152489a1",
   "metadata": {},
   "outputs": [],
   "source": []
  }
 ],
 "metadata": {
  "kernelspec": {
   "display_name": "Python 3 (ipykernel)",
   "language": "python",
   "name": "python3"
  },
  "language_info": {
   "codemirror_mode": {
    "name": "ipython",
    "version": 3
   },
   "file_extension": ".py",
   "mimetype": "text/x-python",
   "name": "python",
   "nbconvert_exporter": "python",
   "pygments_lexer": "ipython3",
   "version": "3.11.7"
  }
 },
 "nbformat": 4,
 "nbformat_minor": 5
}
