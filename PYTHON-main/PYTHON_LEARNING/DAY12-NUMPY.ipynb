{
 "cells": [
  {
   "cell_type": "markdown",
   "id": "500f5f19-d516-46cd-b3f3-a688fdac9bd7",
   "metadata": {},
   "source": [
    "NumPy"
   ]
  },
  {
   "cell_type": "code",
   "execution_count": 1,
   "id": "44a36160-bea2-4541-ad47-6721fc44a0ba",
   "metadata": {},
   "outputs": [],
   "source": [
    "import numpy as np"
   ]
  },
  {
   "cell_type": "markdown",
   "id": "3cd195ae",
   "metadata": {},
   "source": [
    "numpy array "
   ]
  },
  {
   "cell_type": "code",
   "execution_count": 3,
   "id": "0685a5cf",
   "metadata": {},
   "outputs": [
    {
     "name": "stdout",
     "output_type": "stream",
     "text": [
      "[1 2 3 4 5 6]\n",
      "<class 'numpy.ndarray'>\n"
     ]
    }
   ],
   "source": [
    "arr = np.array([1,2,3,4,5,6,])\n",
    "print(arr)\n",
    "print(type(arr))"
   ]
  },
  {
   "cell_type": "markdown",
   "id": "939d4a2c",
   "metadata": {},
   "source": [
    "tuple in numpy"
   ]
  },
  {
   "cell_type": "code",
   "execution_count": 5,
   "id": "fa71fb70",
   "metadata": {},
   "outputs": [
    {
     "name": "stdout",
     "output_type": "stream",
     "text": [
      "[1 2 3 4 5 6]\n",
      "<class 'numpy.ndarray'>\n"
     ]
    }
   ],
   "source": [
    "arr = np.array((1,2,3,4,5,6,))\n",
    "print(arr)\n",
    "print(type(arr))"
   ]
  },
  {
   "cell_type": "markdown",
   "id": "857556c3",
   "metadata": {},
   "source": [
    "Dimension in array"
   ]
  },
  {
   "cell_type": "code",
   "execution_count": 7,
   "id": "6e5b8671",
   "metadata": {},
   "outputs": [
    {
     "name": "stdout",
     "output_type": "stream",
     "text": [
      "20\n",
      "<class 'numpy.ndarray'>\n",
      "0\n"
     ]
    }
   ],
   "source": [
    "#0D array\n",
    "arr = np.array(20)\n",
    "print(arr)\n",
    "print(type(arr))\n",
    "print(arr.ndim)"
   ]
  },
  {
   "cell_type": "code",
   "execution_count": 9,
   "id": "7e3160dd",
   "metadata": {},
   "outputs": [
    {
     "name": "stdout",
     "output_type": "stream",
     "text": [
      "[20 21 23]\n",
      "<class 'numpy.ndarray'>\n",
      "1\n"
     ]
    }
   ],
   "source": [
    "#1D array\n",
    "arr = np.array([20,21,23])\n",
    "print(arr)\n",
    "print(type(arr))\n",
    "print(arr.ndim)"
   ]
  },
  {
   "cell_type": "code",
   "execution_count": 11,
   "id": "c0278cbb",
   "metadata": {},
   "outputs": [
    {
     "name": "stdout",
     "output_type": "stream",
     "text": [
      "[[20 21 23]\n",
      " [ 2  2  3]]\n",
      "<class 'numpy.ndarray'>\n",
      "2\n"
     ]
    }
   ],
   "source": [
    "#2D array\n",
    "arr1 = np.array([[20,21,23],[2,2,3]])\n",
    "print(arr1)\n",
    "print(type(arr1))\n",
    "print(arr1.ndim)"
   ]
  },
  {
   "cell_type": "code",
   "execution_count": 15,
   "id": "e3bd58ac",
   "metadata": {},
   "outputs": [
    {
     "name": "stdout",
     "output_type": "stream",
     "text": [
      "[[[20 21 23]\n",
      "  [ 2  2  3]\n",
      "  [30 31 32]]]\n",
      "<class 'numpy.ndarray'>\n",
      "3\n"
     ]
    }
   ],
   "source": [
    "#3D array\n",
    "arr1 = np.array([[[20,21,23],[2,2,3],[30,31,32]]])\n",
    "print(arr1)\n",
    "print(type(arr1))\n",
    "print(arr1.ndim)"
   ]
  },
  {
   "cell_type": "markdown",
   "id": "f83b0033",
   "metadata": {},
   "source": [
    "NUMPY ARRAY INDEX"
   ]
  },
  {
   "cell_type": "code",
   "execution_count": 22,
   "id": "d42bccae",
   "metadata": {},
   "outputs": [
    {
     "name": "stdout",
     "output_type": "stream",
     "text": [
      "21\n",
      "45\n",
      "22\n"
     ]
    }
   ],
   "source": [
    "arr = np.array([[21,23,34],\n",
    "                [30,45,22]])\n",
    "print(arr[0,0])\n",
    "print(arr[1,1])\n",
    "print(arr[1,2])"
   ]
  },
  {
   "cell_type": "markdown",
   "id": "57d91229",
   "metadata": {},
   "source": [
    "DAY 13:NUMPY CONTINUE "
   ]
  },
  {
   "cell_type": "markdown",
   "id": "04367bd7",
   "metadata": {},
   "source": [
    "Slicing  in array"
   ]
  },
  {
   "cell_type": "code",
   "execution_count": 35,
   "id": "b7ea9de6",
   "metadata": {},
   "outputs": [
    {
     "name": "stdout",
     "output_type": "stream",
     "text": [
      "[22 23 24]\n",
      "[32 33]\n"
     ]
    }
   ],
   "source": [
    "ARR = np.array([[21,22,23,24,24,25],[31,32,33,34,35,36]])\n",
    "print(ARR[0,1:4])\n",
    "print(ARR[1,1:3])"
   ]
  },
  {
   "cell_type": "markdown",
   "id": "ee875e12",
   "metadata": {},
   "source": [
    "3D array slicing"
   ]
  },
  {
   "cell_type": "code",
   "execution_count": 26,
   "id": "9db814d7",
   "metadata": {},
   "outputs": [
    {
     "name": "stdout",
     "output_type": "stream",
     "text": [
      "[[[21 22 23 24 24 25]\n",
      "  [31 32 33 34 35 36]\n",
      "  [41 42 43 44 45 46]]]\n"
     ]
    }
   ],
   "source": [
    "ARR = np.array([[[21,22,23,24,24,25],[31,32,33,34,35,36],[41,42,43,44,45,46]]])\n",
    "print(ARR)"
   ]
  },
  {
   "cell_type": "code",
   "execution_count": 34,
   "id": "7a12812e",
   "metadata": {},
   "outputs": [
    {
     "name": "stdout",
     "output_type": "stream",
     "text": [
      "slicing in 3d array part1\n",
      "[22 23 24]\n",
      "slicing in 3d array part2\n",
      "[[32 33 34]\n",
      " [42 43 44]]\n"
     ]
    }
   ],
   "source": [
    "print(\"slicing in 3d array part1\")\n",
    "print(ARR[0,0,1:4])\n",
    "print(\"slicing in 3d array part2\")\n",
    "print(ARR[0,1:3,1:4])\n"
   ]
  },
  {
   "cell_type": "markdown",
   "id": "af8db781",
   "metadata": {},
   "source": [
    "Checking Data type of an Array"
   ]
  },
  {
   "cell_type": "code",
   "execution_count": 37,
   "id": "f1e1220f",
   "metadata": {},
   "outputs": [
    {
     "name": "stdout",
     "output_type": "stream",
     "text": [
      "<class 'numpy.ndarray'>\n",
      "int32\n"
     ]
    }
   ],
   "source": [
    "ARR = np.array([[[21,22,23,24,24,25],[31,32,33,34,35,36],[41,42,43,44,45,46]]])\n",
    "print(type(ARR))\n",
    "print(ARR.dtype)"
   ]
  },
  {
   "cell_type": "code",
   "execution_count": 38,
   "id": "00798819",
   "metadata": {},
   "outputs": [
    {
     "name": "stdout",
     "output_type": "stream",
     "text": [
      "<class 'numpy.ndarray'>\n",
      "<U1\n"
     ]
    }
   ],
   "source": [
    "ARR =np.array([\"A\",\"B\",\"C\"])\n",
    "print(type(ARR))\n",
    "print(ARR.dtype)"
   ]
  },
  {
   "cell_type": "markdown",
   "id": "10e22a5a",
   "metadata": {},
   "source": [
    "CREATING ARRAY WITH DEFINED DATA TYPE"
   ]
  },
  {
   "cell_type": "code",
   "execution_count": 43,
   "id": "9e609d81",
   "metadata": {},
   "outputs": [
    {
     "name": "stdout",
     "output_type": "stream",
     "text": [
      "[b'21' b'23' b'34']\n",
      "|S2\n"
     ]
    }
   ],
   "source": [
    "arr = np.array([21,23,34],dtype='S')\n",
    "print(arr)\n",
    "print(arr.dtype)"
   ]
  },
  {
   "cell_type": "markdown",
   "id": "e6e07efe",
   "metadata": {},
   "source": [
    "CREATING ARRAY WITH DATA TYPE 4 bytes integers"
   ]
  },
  {
   "cell_type": "code",
   "execution_count": 49,
   "id": "ac40e004",
   "metadata": {},
   "outputs": [
    {
     "name": "stdout",
     "output_type": "stream",
     "text": [
      "[1 2 3 4 5 6]\n",
      "int32\n",
      "int16\n",
      "int64\n"
     ]
    }
   ],
   "source": [
    "arr4 =np.array([1,2,3,4,5,6],dtype='i4') \n",
    "arr2 =np.array([1,2,3,4,5,6],dtype='i2')\n",
    "arr8 =np.array([1,2,3,4,5,6],dtype='i8')\n",
    "print(arr4)\n",
    "print(arr4.dtype)\n",
    "print(arr2.dtype)\n",
    "print(arr8.dtype)\n"
   ]
  },
  {
   "cell_type": "markdown",
   "id": "c0c00a52",
   "metadata": {},
   "source": [
    "NUMPY ARRAY SHAPE "
   ]
  },
  {
   "cell_type": "code",
   "execution_count": 58,
   "id": "cb98b397",
   "metadata": {},
   "outputs": [
    {
     "name": "stdout",
     "output_type": "stream",
     "text": [
      "[[11 12 13 14 15 16]\n",
      " [21 22 23 24 25 26]]\n",
      "shape of an above array is  (2, 6)\n"
     ]
    }
   ],
   "source": [
    "#shape of an array is number of elements in each direction\n",
    "\n",
    "arr = np.array([[11,12,13,14,15,16],[21,22,23,24,25,26]])\n",
    "print(arr)\n",
    "print(\"shape of an above array is \",arr.shape)"
   ]
  },
  {
   "cell_type": "code",
   "execution_count": 59,
   "id": "28d410b5",
   "metadata": {},
   "outputs": [
    {
     "name": "stdout",
     "output_type": "stream",
     "text": [
      "[[[11 12 13 14 15 16]\n",
      "  [21 22 23 24 25 26]\n",
      "  [31 32 33 34 35 36]]]\n",
      "shape of an above array is  (1, 3, 6)\n"
     ]
    }
   ],
   "source": [
    "arr = np.array([[[11,12,13,14,15,16],[21,22,23,24,25,26],[31,32,33,34,35,36]]])\n",
    "print(arr)\n",
    "print(\"shape of an above array is \",arr.shape)"
   ]
  },
  {
   "cell_type": "code",
   "execution_count": 63,
   "id": "edb528ee",
   "metadata": {},
   "outputs": [
    {
     "name": "stdout",
     "output_type": "stream",
     "text": [
      "[[[11 12 13 14 15 16]\n",
      "  [21 22 23 24 25 26]\n",
      "  [31 32 33 34 35 36]]\n",
      "\n",
      " [[11 12 13 14 15 16]\n",
      "  [21 52 53 54 25 26]\n",
      "  [31 32 33 34 35 36]]\n",
      "\n",
      " [[11 12 13 14 15 16]\n",
      "  [21 22 23 24 25 26]\n",
      "  [31 32 33 34 35 36]]]\n",
      "shape of an above array is  (3, 3, 6)\n",
      "different selected values are [52 53 54]\n"
     ]
    }
   ],
   "source": [
    "arr = np.array([[[11,12,13,14,15,16],[21,22,23,24,25,26],[31,32,33,34,35,36]],[[11,12,13,14,15,16],[21,52,53,54,25,26],[31,32,33,34,35,36]],[[11,12,13,14,15,16],[21,22,23,24,25,26],[31,32,33,34,35,36]]])\n",
    "print(arr)\n",
    "print(\"shape of an above array is \",arr.shape)\n",
    "print(\"different selected values are\",arr[1,1,1:4])"
   ]
  },
  {
   "cell_type": "markdown",
   "id": "4132efb2",
   "metadata": {},
   "source": [
    "JOINING TWO NUMPY ARRAY"
   ]
  },
  {
   "cell_type": "code",
   "execution_count": 71,
   "id": "62788fc3",
   "metadata": {},
   "outputs": [
    {
     "name": "stdout",
     "output_type": "stream",
     "text": [
      "given arrays are  \n",
      " [11 12 13 14] \n",
      " [21 22 23 24]\n",
      "arrays after joining\n",
      "[11 12 13 14 21 22 23 24]\n"
     ]
    }
   ],
   "source": [
    "arr1= np.array([11,12,13,14])\n",
    "arr2= np.array([21,22,23,24])\n",
    "print(\"given arrays are  \\n\",arr1,\"\\n\" , arr2)\n",
    "print(\"arrays after joining\")\n",
    "arr3=np.concatenate((arr1,arr2))\n",
    "print(arr3)\n"
   ]
  },
  {
   "cell_type": "markdown",
   "id": "90d31b12",
   "metadata": {},
   "source": [
    "JOINING 2D ARRAY"
   ]
  },
  {
   "cell_type": "code",
   "execution_count": 81,
   "id": "31142499",
   "metadata": {},
   "outputs": [
    {
     "name": "stdout",
     "output_type": "stream",
     "text": [
      "given arr1 are  \n",
      "\n",
      " [[11 12 13 14]\n",
      " [31 32 33 34]]\n",
      "given arr2 are  \n",
      "\n",
      " [[21 22 23 24]\n",
      " [41 42 43 44]]\n",
      "\n",
      " arrays after joining\n",
      "[[11 12 13 14 21 22 23 24]\n",
      " [31 32 33 34 41 42 43 44]]\n",
      "[[11 12 13 14]\n",
      " [31 32 33 34]\n",
      " [21 22 23 24]\n",
      " [41 42 43 44]]\n"
     ]
    }
   ],
   "source": [
    "arr1= np.array([[11,12,13,14],[31,32,33,34]])\n",
    "arr2= np.array([[21,22,23,24],[41,42,43,44]])\n",
    "print(\"given arr1 are  \\n\\n\",arr1)\n",
    "print(\"given arr2 are  \\n\\n\",arr2)\n",
    "print(\"\\n arrays after joining\")\n",
    "arr3=np.concatenate((arr1,arr2),axis=1)\n",
    "arr4=np.concatenate((arr1,arr2),axis=0)\n",
    "print(arr3)\n",
    "print(arr4)"
   ]
  },
  {
   "cell_type": "markdown",
   "id": "75f266e3",
   "metadata": {},
   "source": [
    "Spliting of an array"
   ]
  },
  {
   "cell_type": "code",
   "execution_count": 85,
   "id": "c4b69044",
   "metadata": {},
   "outputs": [
    {
     "name": "stdout",
     "output_type": "stream",
     "text": [
      "slipting given array into 2 parts\n",
      " [array([11, 12, 13, 14]), array([15, 16, 17])]\n",
      "slipting given array into 4 parts\n",
      " [array([11, 12]), array([13, 14]), array([15, 16]), array([17])]\n"
     ]
    }
   ],
   "source": [
    "arr= np.array([11,12,13,14,15,16,17])\n",
    "sarr =np.array_split(arr,2)\n",
    "sarr4 =np.array_split(arr,4)\n",
    "print(\"slipting given array into 2 parts\\n\",sarr)\n",
    "print(\"slipting given array into 4 parts\\n\",sarr4)\n"
   ]
  },
  {
   "cell_type": "markdown",
   "id": "5de16fb5",
   "metadata": {},
   "source": [
    "RAVEL AND FLATTEN"
   ]
  },
  {
   "cell_type": "code",
   "execution_count": 91,
   "id": "e1f4b144",
   "metadata": {},
   "outputs": [
    {
     "name": "stdout",
     "output_type": "stream",
     "text": [
      "[[[11 12 13]\n",
      "  [21 22 23]\n",
      "  [31 32 33]]]\n",
      "3\n",
      "[11 12 13 21 22 23 31 32 33]\n",
      "[11 12 13 21 22 23 31 32 33]\n"
     ]
    }
   ],
   "source": [
    "#ITS CONVERT MULTI DIMENSION ARRAY INTO 1D ARRAU\n",
    "arr1= np.array([[[11,12,13],[21,22,23],[31,32,33]]])\n",
    "print(arr1)\n",
    "print(arr1.ndim)\n",
    "n=arr1.ravel()\n",
    "k=arr1.flatten()\n",
    "print(n)\n",
    "print(k)"
   ]
  },
  {
   "cell_type": "markdown",
   "id": "196790ab",
   "metadata": {},
   "source": [
    "UNIQUE FUNCTION\n"
   ]
  },
  {
   "cell_type": "code",
   "execution_count": 92,
   "id": "c7ab24c7",
   "metadata": {},
   "outputs": [
    {
     "name": "stdout",
     "output_type": "stream",
     "text": [
      "[ 1  2  3  3  4  5  5  6  7  8  9 64  4]\n",
      "[ 1  2  3  4  5  6  7  8  9 64]\n"
     ]
    }
   ],
   "source": [
    "U=np.array([1,2,3,3,4,5,5,6,7,8,9,64,4])\n",
    "print(U)\n",
    "N=np.unique(U)\n",
    "print(N)"
   ]
  },
  {
   "cell_type": "code",
   "execution_count": 96,
   "id": "b99af4e2",
   "metadata": {},
   "outputs": [
    {
     "name": "stdout",
     "output_type": "stream",
     "text": [
      "[ 1  1  1  1  2  3  3  4  5  5  6  7  8  9 64  4]\n",
      "(array([ 1,  2,  3,  4,  5,  6,  7,  8,  9, 64]), array([ 0,  4,  5,  7,  8, 10, 11, 12, 13, 14], dtype=int64))\n",
      "(array([ 1,  2,  3,  4,  5,  6,  7,  8,  9, 64]), array([4, 1, 2, 2, 2, 1, 1, 1, 1, 1], dtype=int64))\n"
     ]
    }
   ],
   "source": [
    "U=np.array([1,1,1,1,2,3,3,4,5,5,6,7,8,9,64,4])\n",
    "print(U)\n",
    "N=np.unique(U,return_index=True )\n",
    "M=np.unique(U,return_counts=True )\n",
    "print(N)\n",
    "print(M)"
   ]
  },
  {
   "cell_type": "markdown",
   "id": "e5890c46",
   "metadata": {},
   "source": [
    "DELETE"
   ]
  },
  {
   "cell_type": "code",
   "execution_count": 102,
   "id": "e975c7bd",
   "metadata": {},
   "outputs": [
    {
     "name": "stdout",
     "output_type": "stream",
     "text": [
      "[ 1  1  1  1  2  3  3  4  5  5  6  7  8  9 64  4]\n",
      "[ 1  1  1  1  3  3  4  5  5  6  7  8  9 64  4]\n"
     ]
    }
   ],
   "source": [
    "d=np.array([1,1,1,1,2,3,3,4,5,5,6,7,8,9,64,4])\n",
    "d1=np.delete(d,[4])\n",
    "print(d)\n",
    "print(d1)"
   ]
  },
  {
   "cell_type": "code",
   "execution_count": 116,
   "id": "7ac3e2e5",
   "metadata": {},
   "outputs": [
    {
     "name": "stdout",
     "output_type": "stream",
     "text": [
      "[[ 1  2  3  4  5]\n",
      " [11 22 33 44 55]\n",
      " [ 1  2  3  4  5]]\n",
      "\n",
      "\n",
      " after delete \n",
      " [[1 2 3 4 5]\n",
      " [1 2 3 4 5]]\n",
      "\n",
      "\n",
      " after delete \n",
      " [[ 1  3  4  5]\n",
      " [11 33 44 55]\n",
      " [ 1  3  4  5]]\n"
     ]
    }
   ],
   "source": [
    "d=np.array([[1,2,3,4,5],[11,22,33,44,55],[1,2,3,4,5]])\n",
    "d1=np.delete(d,1,axis=0)\n",
    "d2=np.delete(d,1,axis=1)\n",
    "print(d)\n",
    "print(\"\\n\\n after delete \\n\",d1)\n",
    "print(\"\\n\\n after delete \\n\",d2)"
   ]
  }
 ],
 "metadata": {
  "kernelspec": {
   "display_name": "Python 3 (ipykernel)",
   "language": "python",
   "name": "python3"
  },
  "language_info": {
   "codemirror_mode": {
    "name": "ipython",
    "version": 3
   },
   "file_extension": ".py",
   "mimetype": "text/x-python",
   "name": "python",
   "nbconvert_exporter": "python",
   "pygments_lexer": "ipython3",
   "version": "3.11.7"
  }
 },
 "nbformat": 4,
 "nbformat_minor": 5
}
