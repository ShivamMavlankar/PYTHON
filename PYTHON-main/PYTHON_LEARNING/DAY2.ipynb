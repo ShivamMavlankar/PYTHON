{
 "cells": [
  {
   "cell_type": "markdown",
   "id": "639436f9-2625-41b9-b18b-1997831ba721",
   "metadata": {},
   "source": [
    "DAY 2 :VARIABLE AND OPERATORS IN PYTHON"
   ]
  },
  {
   "cell_type": "code",
   "execution_count": 21,
   "id": "0bda29c0-7e42-443b-95c7-fca25e61b295",
   "metadata": {},
   "outputs": [
    {
     "name": "stdout",
     "output_type": "stream",
     "text": [
      "1\n"
     ]
    }
   ],
   "source": [
    "a=1\n",
    "print(a)"
   ]
  },
  {
   "cell_type": "code",
   "execution_count": 22,
   "id": "9fd9f1bd-18d9-4d18-8fd1-10827c1df172",
   "metadata": {},
   "outputs": [
    {
     "name": "stdout",
     "output_type": "stream",
     "text": [
      "1 . Shivam Mavlankar\n"
     ]
    }
   ],
   "source": [
    "b,c=\"Shivam\",\"Mavlankar\"\n",
    "d=\".\"\n",
    "print(a,d,b,c)\n"
   ]
  },
  {
   "cell_type": "markdown",
   "id": "e65ddbed-a0ea-4e0c-90cd-8efec0514bc3",
   "metadata": {},
   "source": [
    "LIST, TUPLE , RANGE"
   ]
  },
  {
   "cell_type": "code",
   "execution_count": 26,
   "id": "ed7b6a38-c3d4-4fbe-82d3-0100692819eb",
   "metadata": {},
   "outputs": [
    {
     "name": "stdout",
     "output_type": "stream",
     "text": [
      "[1, 2, 3, 4, 5, 6, 7]\n",
      "<class 'list'>\n"
     ]
    }
   ],
   "source": [
    "LIST=[1,2,3,4,5,6,7]\n",
    "print(LIST)\n",
    "print(type(LIST))"
   ]
  },
  {
   "cell_type": "code",
   "execution_count": 24,
   "id": "6a11b4ba-97b8-4440-811f-ee1a998e15c5",
   "metadata": {},
   "outputs": [
    {
     "name": "stdout",
     "output_type": "stream",
     "text": [
      "(1, 2, 3, 4, 5, 6, 7)\n",
      "<class 'tuple'>\n"
     ]
    }
   ],
   "source": [
    "TUPLE =(1,2,3,4,5,6,7)\n",
    "print(TUPLE)\n",
    "print(type(TUPLE))"
   ]
  },
  {
   "cell_type": "code",
   "execution_count": 25,
   "id": "896aa311-f1ff-4ff4-b0bd-3e604c4f08a3",
   "metadata": {},
   "outputs": [
    {
     "name": "stdout",
     "output_type": "stream",
     "text": [
      "Variable   Type     Data/Info\n",
      "-----------------------------\n",
      "L1         list     n=7\n",
      "LIST       list     n=7\n",
      "TUPLE      tuple    n=7\n",
      "a          int      1\n",
      "b          str      Shivam\n",
      "c          str      Mavlankar\n",
      "d          str      .\n"
     ]
    }
   ],
   "source": [
    "%whos"
   ]
  },
  {
   "cell_type": "code",
   "execution_count": null,
   "id": "42a82164-41ae-4c3e-be7a-e3aeb02cfdeb",
   "metadata": {},
   "outputs": [],
   "source": []
  },
  {
   "cell_type": "code",
   "execution_count": null,
   "id": "2c702268-0e54-486f-9bd5-b9115050849f",
   "metadata": {},
   "outputs": [],
   "source": []
  }
 ],
 "metadata": {
  "kernelspec": {
   "display_name": "Python 3 (ipykernel)",
   "language": "python",
   "name": "python3"
  },
  "language_info": {
   "codemirror_mode": {
    "name": "ipython",
    "version": 3
   },
   "file_extension": ".py",
   "mimetype": "text/x-python",
   "name": "python",
   "nbconvert_exporter": "python",
   "pygments_lexer": "ipython3",
   "version": "3.11.7"
  }
 },
 "nbformat": 4,
 "nbformat_minor": 5
}
